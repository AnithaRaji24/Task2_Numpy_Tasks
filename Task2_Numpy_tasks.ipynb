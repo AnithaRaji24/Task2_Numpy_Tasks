{
  "cells": [
    {
      "cell_type": "markdown",
      "metadata": {
        "id": "dhGqhwVESiMf"
      },
      "source": [
        "# Numpy\n",
        "\n"
      ]
    },
    {
      "cell_type": "markdown",
      "metadata": {
        "id": "XZfz6xVqSiMl"
      },
      "source": [
        "#### 1. Import the numpy package under the name `np` (★☆☆) \n",
        "(**hint**: import … as …)"
      ]
    },
    {
      "cell_type": "code",
      "execution_count": 1,
      "metadata": {
        "collapsed": true,
        "id": "J_hIthPySiMm"
      },
      "outputs": [],
      "source": [
        "import numpy as np"
      ]
    },
    {
      "cell_type": "markdown",
      "metadata": {
        "id": "MHVwX_aiSiMo"
      },
      "source": [
        "#### 2. Print the numpy version and the configuration (★☆☆) \n",
        "(**hint**: np.\\_\\_version\\_\\_, np.show\\_config)"
      ]
    },
    {
      "cell_type": "code",
      "execution_count": 2,
      "metadata": {
        "id": "Z3m8hpZmSiMp",
        "colab": {
          "base_uri": "https://localhost:8080/"
        },
        "outputId": "21e37795-0cda-4636-8f95-b7dfb936c7e1"
      },
      "outputs": [
        {
          "output_type": "stream",
          "name": "stdout",
          "text": [
            "NumPy version: 1.22.4\n",
            "\n",
            "NumPy configuration:\n",
            "openblas64__info:\n",
            "    libraries = ['openblas64_', 'openblas64_']\n",
            "    library_dirs = ['/usr/local/lib']\n",
            "    language = c\n",
            "    define_macros = [('HAVE_CBLAS', None), ('BLAS_SYMBOL_SUFFIX', '64_'), ('HAVE_BLAS_ILP64', None)]\n",
            "    runtime_library_dirs = ['/usr/local/lib']\n",
            "blas_ilp64_opt_info:\n",
            "    libraries = ['openblas64_', 'openblas64_']\n",
            "    library_dirs = ['/usr/local/lib']\n",
            "    language = c\n",
            "    define_macros = [('HAVE_CBLAS', None), ('BLAS_SYMBOL_SUFFIX', '64_'), ('HAVE_BLAS_ILP64', None)]\n",
            "    runtime_library_dirs = ['/usr/local/lib']\n",
            "openblas64__lapack_info:\n",
            "    libraries = ['openblas64_', 'openblas64_']\n",
            "    library_dirs = ['/usr/local/lib']\n",
            "    language = c\n",
            "    define_macros = [('HAVE_CBLAS', None), ('BLAS_SYMBOL_SUFFIX', '64_'), ('HAVE_BLAS_ILP64', None), ('HAVE_LAPACKE', None)]\n",
            "    runtime_library_dirs = ['/usr/local/lib']\n",
            "lapack_ilp64_opt_info:\n",
            "    libraries = ['openblas64_', 'openblas64_']\n",
            "    library_dirs = ['/usr/local/lib']\n",
            "    language = c\n",
            "    define_macros = [('HAVE_CBLAS', None), ('BLAS_SYMBOL_SUFFIX', '64_'), ('HAVE_BLAS_ILP64', None), ('HAVE_LAPACKE', None)]\n",
            "    runtime_library_dirs = ['/usr/local/lib']\n",
            "Supported SIMD extensions in this NumPy install:\n",
            "    baseline = SSE,SSE2,SSE3\n",
            "    found = SSSE3,SSE41,POPCNT,SSE42,AVX,F16C,FMA3,AVX2\n",
            "    not found = AVX512F,AVX512CD,AVX512_KNL,AVX512_KNM,AVX512_SKX,AVX512_CLX,AVX512_CNL,AVX512_ICL\n"
          ]
        }
      ],
      "source": [
        "print(\"NumPy version:\", np.__version__)\n",
        "print(\"\\nNumPy configuration:\")\n",
        "np.show_config()"
      ]
    },
    {
      "cell_type": "markdown",
      "metadata": {
        "id": "mVzm1YRASiMq"
      },
      "source": [
        "#### 3. Create a null vector of size 10 (★☆☆) \n",
        "(**hint**: np.zeros)"
      ]
    },
    {
      "cell_type": "code",
      "execution_count": 3,
      "metadata": {
        "id": "4bEBEU3ISiMq",
        "colab": {
          "base_uri": "https://localhost:8080/"
        },
        "outputId": "fbd09af8-d6ec-4b5e-be8a-6908f09cf576"
      },
      "outputs": [
        {
          "output_type": "stream",
          "name": "stdout",
          "text": [
            "[0. 0. 0. 0. 0. 0. 0. 0. 0. 0.]\n"
          ]
        }
      ],
      "source": [
        "null_vector = np.zeros(10)\n",
        "print(null_vector)"
      ]
    },
    {
      "cell_type": "markdown",
      "metadata": {
        "id": "t4l_9MNRSiMr"
      },
      "source": [
        "#### 4.  How to find the memory size of any array (★☆☆) \n",
        "(**hint**: size, itemsize)"
      ]
    },
    {
      "cell_type": "code",
      "execution_count": 4,
      "metadata": {
        "id": "Hx_V7FpNSiMr",
        "colab": {
          "base_uri": "https://localhost:8080/"
        },
        "outputId": "b1a9ee6e-611b-444c-9743-5151e761a740"
      },
      "outputs": [
        {
          "output_type": "stream",
          "name": "stdout",
          "text": [
            "Array size in bytes: 96\n"
          ]
        }
      ],
      "source": [
        "arr = np.zeros((3, 4))\n",
        "size_in_bytes = arr.nbytes\n",
        "\n",
        "print(\"Array size in bytes:\", size_in_bytes)"
      ]
    },
    {
      "cell_type": "markdown",
      "metadata": {
        "id": "CRc0qv4lSiMs"
      },
      "source": [
        "#### 5.  How to get the documentation of the numpy add function from the command line? (★☆☆) \n",
        "(**hint**: np.info)"
      ]
    },
    {
      "cell_type": "code",
      "execution_count": 5,
      "metadata": {
        "collapsed": true,
        "id": "AxQY4ACGSiMs",
        "colab": {
          "base_uri": "https://localhost:8080/"
        },
        "outputId": "3d941aa2-85ca-468b-c9ae-ae4e95b6421a"
      },
      "outputs": [
        {
          "output_type": "stream",
          "name": "stdout",
          "text": [
            " info(object=None, maxwidth=76,\n",
            "      output=<ipykernel.iostream.OutStream object at 0x7fa6d83a2700>,\n",
            "      toplevel='numpy')\n",
            "\n",
            "Get help information for a function, class, or module.\n",
            "\n",
            "Parameters\n",
            "----------\n",
            "object : object or str, optional\n",
            "    Input object or name to get information about. If `object` is a\n",
            "    numpy object, its docstring is given. If it is a string, available\n",
            "    modules are searched for matching objects.  If None, information\n",
            "    about `info` itself is returned.\n",
            "maxwidth : int, optional\n",
            "    Printing width.\n",
            "output : file like object, optional\n",
            "    File like object that the output is written to, default is\n",
            "    ``stdout``.  The object has to be opened in 'w' or 'a' mode.\n",
            "toplevel : str, optional\n",
            "    Start search at this level.\n",
            "\n",
            "See Also\n",
            "--------\n",
            "source, lookfor\n",
            "\n",
            "Notes\n",
            "-----\n",
            "When used interactively with an object, ``np.info(obj)`` is equivalent\n",
            "to ``help(obj)`` on the Python prompt or ``obj?`` on the IPython\n",
            "prompt.\n",
            "\n",
            "Examples\n",
            "--------\n",
            ">>> np.info(np.polyval) # doctest: +SKIP\n",
            "   polyval(p, x)\n",
            "     Evaluate the polynomial p at x.\n",
            "     ...\n",
            "\n",
            "When using a string for `object` it is possible to get multiple results.\n",
            "\n",
            ">>> np.info('fft') # doctest: +SKIP\n",
            "     *** Found in numpy ***\n",
            "Core FFT routines\n",
            "...\n",
            "     *** Found in numpy.fft ***\n",
            " fft(a, n=None, axis=-1)\n",
            "...\n",
            "     *** Repeat reference found in numpy.fft.fftpack ***\n",
            "     *** Total of 3 references found. ***\n"
          ]
        }
      ],
      "source": [
        "np.info()"
      ]
    },
    {
      "cell_type": "markdown",
      "metadata": {
        "id": "bJASu3fcSiMt"
      },
      "source": [
        "#### 6.  Create a null vector of size 10 but the fifth value which is 1 (★☆☆) \n",
        "(**hint**: array\\[4\\])"
      ]
    },
    {
      "cell_type": "code",
      "execution_count": 6,
      "metadata": {
        "id": "GY-ytSypSiMt",
        "colab": {
          "base_uri": "https://localhost:8080/"
        },
        "outputId": "c46bef15-c771-49e8-cb9b-8887421eb910"
      },
      "outputs": [
        {
          "output_type": "stream",
          "name": "stdout",
          "text": [
            "[0. 0. 0. 0. 1. 0. 0. 0. 0. 0.]\n"
          ]
        }
      ],
      "source": [
        "null_vector = np.zeros(10)\n",
        "null_vector[4] = 1\n",
        "\n",
        "print(null_vector)"
      ]
    },
    {
      "cell_type": "markdown",
      "metadata": {
        "id": "ZcMDIYcjSiMu"
      },
      "source": [
        "#### 7.  Create a vector with values ranging from 10 to 49 (★☆☆) \n",
        "(**hint**: np.arange)"
      ]
    },
    {
      "cell_type": "code",
      "execution_count": 7,
      "metadata": {
        "id": "4BmL-EJpSiMu",
        "colab": {
          "base_uri": "https://localhost:8080/"
        },
        "outputId": "387aa7b9-22cd-4aa7-938f-15d32139a98b"
      },
      "outputs": [
        {
          "output_type": "stream",
          "name": "stdout",
          "text": [
            "[10 11 12 13 14 15 16 17 18 19 20 21 22 23 24 25 26 27 28 29 30 31 32 33\n",
            " 34 35 36 37 38 39 40 41 42 43 44 45 46 47 48 49]\n"
          ]
        }
      ],
      "source": [
        "vector = np.arange(10, 50)\n",
        "\n",
        "print(vector)"
      ]
    },
    {
      "cell_type": "markdown",
      "metadata": {
        "id": "2-wfR2jCSiMu"
      },
      "source": [
        "#### 8.  Reverse a vector (first element becomes last) (★☆☆) \n",
        "(**hint**: array\\[::-1\\])"
      ]
    },
    {
      "cell_type": "code",
      "execution_count": 8,
      "metadata": {
        "id": "ObPpdsCsSiMv",
        "colab": {
          "base_uri": "https://localhost:8080/"
        },
        "outputId": "6ee170c8-5019-4663-f4af-69198c9e82c0"
      },
      "outputs": [
        {
          "output_type": "stream",
          "name": "stdout",
          "text": [
            "[5 4 3 2 1]\n"
          ]
        }
      ],
      "source": [
        "vector = np.array([1, 2, 3, 4, 5])\n",
        "\n",
        "reversed_vector = vector[::-1]\n",
        "\n",
        "print(reversed_vector)"
      ]
    },
    {
      "cell_type": "markdown",
      "metadata": {
        "id": "9GNEZwF5SiMv"
      },
      "source": [
        "#### 9.  Create a 3x3 matrix with values ranging from 0 to 8 (★☆☆) \n",
        "(**hint**: reshape)"
      ]
    },
    {
      "cell_type": "code",
      "execution_count": 9,
      "metadata": {
        "id": "k8xj2E3cSiMw",
        "colab": {
          "base_uri": "https://localhost:8080/"
        },
        "outputId": "a6b89bb7-d42f-47f3-8784-ba6cfb86fb73"
      },
      "outputs": [
        {
          "output_type": "stream",
          "name": "stdout",
          "text": [
            "[[0 1 2]\n",
            " [3 4 5]\n",
            " [6 7 8]]\n"
          ]
        }
      ],
      "source": [
        "values = np.arange(0, 9)\n",
        "matrix = values.reshape(3, 3)\n",
        "\n",
        "print(matrix)"
      ]
    },
    {
      "cell_type": "markdown",
      "metadata": {
        "id": "oWix1aEwSiMw"
      },
      "source": [
        "#### 10. Find indices of non-zero elements from \\[1,2,0,0,4,0\\] (★☆☆) \n",
        "(**hint**: np.nonzero)"
      ]
    },
    {
      "cell_type": "code",
      "execution_count": 10,
      "metadata": {
        "id": "UBeVoptxSiMw",
        "colab": {
          "base_uri": "https://localhost:8080/"
        },
        "outputId": "d3779ed6-1c94-469a-f44a-5c18eb4d7645"
      },
      "outputs": [
        {
          "output_type": "stream",
          "name": "stdout",
          "text": [
            "(array([0, 1, 4]),)\n"
          ]
        }
      ],
      "source": [
        "array = np.array([1, 2, 0, 0, 4, 0])\n",
        "nonzero_indices = np.nonzero(array)\n",
        "\n",
        "print(nonzero_indices)"
      ]
    },
    {
      "cell_type": "markdown",
      "metadata": {
        "id": "5wRhoDZWSiMx"
      },
      "source": [
        "#### 11. Create a 3x3 identity matrix (★☆☆) \n",
        "(**hint**: np.eye)"
      ]
    },
    {
      "cell_type": "code",
      "execution_count": 11,
      "metadata": {
        "id": "jrfs1wFBSiMx",
        "colab": {
          "base_uri": "https://localhost:8080/"
        },
        "outputId": "47ecbcae-8146-47a4-fe72-aad784ee787a"
      },
      "outputs": [
        {
          "output_type": "stream",
          "name": "stdout",
          "text": [
            "[[1. 0. 0.]\n",
            " [0. 1. 0.]\n",
            " [0. 0. 1.]]\n"
          ]
        }
      ],
      "source": [
        "identity_matrix = np.identity(3)\n",
        "print(identity_matrix)"
      ]
    },
    {
      "cell_type": "markdown",
      "metadata": {
        "id": "6i-MWUS5SiMy"
      },
      "source": [
        "#### 12. Create a 3x3x3 array with random values (★☆☆) \n",
        "(**hint**: np.random.random)"
      ]
    },
    {
      "cell_type": "code",
      "execution_count": 12,
      "metadata": {
        "collapsed": true,
        "id": "i7Bx4H6lSiMy",
        "colab": {
          "base_uri": "https://localhost:8080/"
        },
        "outputId": "7b39a863-710c-4ca6-b413-745e08a10183"
      },
      "outputs": [
        {
          "output_type": "stream",
          "name": "stdout",
          "text": [
            "[[[0.57125451 0.00702212 0.33681511]\n",
            "  [0.70315653 0.58621601 0.76969368]\n",
            "  [0.0554843  0.39160846 0.44515224]]\n",
            "\n",
            " [[0.21956492 0.11363935 0.84309016]\n",
            "  [0.3314611  0.63109505 0.81373094]\n",
            "  [0.28114585 0.24063382 0.09157895]]\n",
            "\n",
            " [[0.99933963 0.56047024 0.62728801]\n",
            "  [0.62566883 0.05116403 0.74706307]\n",
            "  [0.48691797 0.04641597 0.4303064 ]]]\n"
          ]
        }
      ],
      "source": [
        "arr = np.random.rand(3, 3, 3)\n",
        "print(arr)"
      ]
    },
    {
      "cell_type": "markdown",
      "metadata": {
        "id": "8WDWZ-1pSiMz"
      },
      "source": [
        "#### 13. Create a 10x10 array with random values and find the minimum and maximum values (★☆☆) \n",
        "(**hint**: min, max)"
      ]
    },
    {
      "cell_type": "code",
      "execution_count": 13,
      "metadata": {
        "id": "-4D1GoNLSiMz",
        "colab": {
          "base_uri": "https://localhost:8080/"
        },
        "outputId": "a944ca2d-060f-4a68-c5f4-45e1ae9b5952"
      },
      "outputs": [
        {
          "output_type": "stream",
          "name": "stdout",
          "text": [
            "[[[0.57125451 0.00702212 0.33681511]\n",
            "  [0.70315653 0.58621601 0.76969368]\n",
            "  [0.0554843  0.39160846 0.44515224]]\n",
            "\n",
            " [[0.21956492 0.11363935 0.84309016]\n",
            "  [0.3314611  0.63109505 0.81373094]\n",
            "  [0.28114585 0.24063382 0.09157895]]\n",
            "\n",
            " [[0.99933963 0.56047024 0.62728801]\n",
            "  [0.62566883 0.05116403 0.74706307]\n",
            "  [0.48691797 0.04641597 0.4303064 ]]]\n",
            "Minimum value: 0.007022122285110233\n",
            "Maximum value: 0.9993396260070225\n"
          ]
        }
      ],
      "source": [
        "print(arr)\n",
        "\n",
        "min_value = np.min(arr)\n",
        "max_value = np.max(arr)\n",
        "\n",
        "print(\"Minimum value:\", min_value)\n",
        "print(\"Maximum value:\", max_value)"
      ]
    },
    {
      "cell_type": "markdown",
      "metadata": {
        "id": "VAQGyYBlSiMz"
      },
      "source": [
        "#### 14. Create a random vector of size 30 and find the mean value (★☆☆) \n",
        "(**hint**: mean)"
      ]
    },
    {
      "cell_type": "code",
      "execution_count": 14,
      "metadata": {
        "id": "ol9dD4AeSiM0",
        "colab": {
          "base_uri": "https://localhost:8080/"
        },
        "outputId": "77e553a2-cae2-4bc4-e3cd-4b387152d898"
      },
      "outputs": [
        {
          "output_type": "stream",
          "name": "stdout",
          "text": [
            "[0.41310116 0.21136084 0.68928803 0.72749634 0.38091811 0.12187512\n",
            " 0.57317607 0.29858933 0.38304863 0.36185281 0.03284673 0.00972537\n",
            " 0.27971968 0.26016949 0.65626008 0.16038722 0.52987586 0.47255813\n",
            " 0.27471849 0.15874043 0.75061062 0.85238629 0.6421691  0.55357215\n",
            " 0.06941467 0.32533175 0.29232047 0.99711269 0.65870656 0.55534722]\n",
            "Mean value: 0.4230893149129717\n"
          ]
        }
      ],
      "source": [
        "vec = np.random.rand(30)\n",
        "print(vec)\n",
        "\n",
        "mean_value = np.mean(vec)\n",
        "print(\"Mean value:\", mean_value)"
      ]
    },
    {
      "cell_type": "markdown",
      "metadata": {
        "id": "yDbkUi7jSiM0"
      },
      "source": [
        "#### 15. Create a 2d array with 1 on the border and 0 inside (★☆☆) \n",
        "(**hint**: array\\[1:-1, 1:-1\\])"
      ]
    },
    {
      "cell_type": "code",
      "execution_count": 16,
      "metadata": {
        "id": "gcT1uprySiM1",
        "colab": {
          "base_uri": "https://localhost:8080/"
        },
        "outputId": "e30c55b0-c73c-4c04-e4ca-c1ea1cfd3cd2"
      },
      "outputs": [
        {
          "output_type": "stream",
          "name": "stdout",
          "text": [
            "[[1. 1. 1. 1. 1.]\n",
            " [1. 0. 0. 0. 1.]\n",
            " [1. 0. 0. 0. 1.]\n",
            " [1. 0. 0. 0. 1.]\n",
            " [1. 1. 1. 1. 1.]]\n"
          ]
        }
      ],
      "source": [
        "rows = 5\n",
        "cols = 5\n",
        "arr = np.zeros((rows, cols))\n",
        "arr[0,:] = 1\n",
        "arr[rows-1,:] = 1\n",
        "arr[:,0] = 1\n",
        "arr[:,cols-1] = 1\n",
        "\n",
        "print(arr)"
      ]
    },
    {
      "cell_type": "markdown",
      "metadata": {
        "id": "Nwx_70fiSiM1"
      },
      "source": [
        "#### 16. How to add a border (filled with 0's) around an existing array? (★☆☆) \n",
        "(**hint**: np.pad)"
      ]
    },
    {
      "cell_type": "code",
      "execution_count": 17,
      "metadata": {
        "id": "sbccLQ6jSiM1",
        "colab": {
          "base_uri": "https://localhost:8080/"
        },
        "outputId": "873bfe73-b774-4053-d01f-7c72e886ea7c"
      },
      "outputs": [
        {
          "output_type": "stream",
          "name": "stdout",
          "text": [
            "[[0 0 0 0 0]\n",
            " [0 1 2 3 0]\n",
            " [0 4 5 6 0]\n",
            " [0 7 8 9 0]\n",
            " [0 0 0 0 0]]\n"
          ]
        }
      ],
      "source": [
        "arr = np.array([[1, 2, 3], [4, 5, 6], [7, 8, 9]])\n",
        "border_size = 1\n",
        "\n",
        "padded_arr = np.pad(arr, pad_width=border_size, mode='constant', constant_values=0)\n",
        "\n",
        "print(padded_arr)"
      ]
    },
    {
      "cell_type": "markdown",
      "metadata": {
        "id": "uGWXV0uLSiM2"
      },
      "source": [
        "#### 17. What is the result of the following expression? (★☆☆) \n",
        "(**hint**: NaN = not a number, inf = infinity)"
      ]
    },
    {
      "cell_type": "markdown",
      "metadata": {
        "id": "qGmfes2pSiM2"
      },
      "source": [
        "```python\n",
        "0 * np.nan\n",
        "np.nan == np.nan\n",
        "np.inf > np.nan\n",
        "np.nan - np.nan\n",
        "0.3 == 3 * 0.1\n",
        "```"
      ]
    },
    {
      "cell_type": "code",
      "execution_count": 18,
      "metadata": {
        "id": "OVV3fw0fSiM3",
        "colab": {
          "base_uri": "https://localhost:8080/"
        },
        "outputId": "1a2fdeca-0c56-492d-bbf7-0a78d87ec308"
      },
      "outputs": [
        {
          "output_type": "execute_result",
          "data": {
            "text/plain": [
              "False"
            ]
          },
          "metadata": {},
          "execution_count": 18
        }
      ],
      "source": [
        "0 * np.nan\n",
        "np.nan == np.nan\n",
        "np.inf > np.nan\n",
        "np.nan - np.nan\n",
        "0.3 == 3 * 0.1"
      ]
    },
    {
      "cell_type": "markdown",
      "metadata": {
        "id": "FRfWt8LISiM5"
      },
      "source": [
        "#### 18. Create a 5x5 matrix with values 1,2,3,4 just below the diagonal (★☆☆) \n",
        "(**hint**: np.diag)"
      ]
    },
    {
      "cell_type": "code",
      "source": [
        "matrix = np.zeros((5, 5))\n",
        "np.fill_diagonal(matrix[1:], [1, 2, 3, 4])\n",
        "\n",
        "print(matrix)"
      ],
      "metadata": {
        "colab": {
          "base_uri": "https://localhost:8080/"
        },
        "id": "vMTuw8Wy52TV",
        "outputId": "218cc53a-4663-4808-e48c-840d26322f0a"
      },
      "execution_count": 19,
      "outputs": [
        {
          "output_type": "stream",
          "name": "stdout",
          "text": [
            "[[0. 0. 0. 0. 0.]\n",
            " [1. 0. 0. 0. 0.]\n",
            " [0. 2. 0. 0. 0.]\n",
            " [0. 0. 3. 0. 0.]\n",
            " [0. 0. 0. 4. 0.]]\n"
          ]
        }
      ]
    },
    {
      "cell_type": "markdown",
      "metadata": {
        "id": "JWaeuuAUSiM7"
      },
      "source": [
        "#### 19. Create a 8x8 matrix and fill it with a checkerboard pattern (★☆☆) \n",
        "(**hint**: array\\[::2\\])"
      ]
    },
    {
      "cell_type": "code",
      "execution_count": 20,
      "metadata": {
        "id": "EDlxCJ_MSiM7",
        "colab": {
          "base_uri": "https://localhost:8080/"
        },
        "outputId": "83670443-951a-44d1-d68d-e53e3c3e76af"
      },
      "outputs": [
        {
          "output_type": "stream",
          "name": "stdout",
          "text": [
            "[[1 0 1 0 1 0 1 0]\n",
            " [0 1 0 1 0 1 0 1]\n",
            " [1 0 1 0 1 0 1 0]\n",
            " [0 1 0 1 0 1 0 1]\n",
            " [1 0 1 0 1 0 1 0]\n",
            " [0 1 0 1 0 1 0 1]\n",
            " [1 0 1 0 1 0 1 0]\n",
            " [0 1 0 1 0 1 0 1]]\n"
          ]
        }
      ],
      "source": [
        "matrix = np.zeros((8, 8), dtype=int)\n",
        "matrix[::2, ::2] = 1\n",
        "matrix[1::2, 1::2] = 1\n",
        "\n",
        "print(matrix)"
      ]
    },
    {
      "cell_type": "markdown",
      "metadata": {
        "id": "gB41Hb2JSiM8"
      },
      "source": [
        "#### 20. Consider a (6,7,8) shape array, what is the index (x,y,z) of the 100th element? \n",
        "(**hint**: np.unravel_index)"
      ]
    },
    {
      "cell_type": "code",
      "execution_count": 21,
      "metadata": {
        "id": "3usyU9BUSiM8",
        "colab": {
          "base_uri": "https://localhost:8080/"
        },
        "outputId": "1610f0bf-e582-46f5-8e34-2ba43ce16455"
      },
      "outputs": [
        {
          "output_type": "stream",
          "name": "stdout",
          "text": [
            "(1, 5, 4)\n"
          ]
        }
      ],
      "source": [
        "arr = np.random.rand(6, 7, 8)\n",
        "index_1d = 100\n",
        "index_3d = np.unravel_index(index_1d, shape=arr.shape)\n",
        "\n",
        "print(index_3d)"
      ]
    },
    {
      "cell_type": "markdown",
      "metadata": {
        "id": "iMR1sWYDSiM8"
      },
      "source": [
        "#### 21. Create a checkerboard 8x8 matrix using the tile function (★☆☆) \n",
        "(**hint**: np.tile)"
      ]
    },
    {
      "cell_type": "code",
      "execution_count": 22,
      "metadata": {
        "id": "7JpOCDYpSiM8",
        "colab": {
          "base_uri": "https://localhost:8080/"
        },
        "outputId": "80c372ef-17b8-4ba9-ceda-14051eeaa736"
      },
      "outputs": [
        {
          "output_type": "stream",
          "name": "stdout",
          "text": [
            "[[0 1 0 1 0 1 0 1]\n",
            " [1 0 1 0 1 0 1 0]\n",
            " [0 1 0 1 0 1 0 1]\n",
            " [1 0 1 0 1 0 1 0]\n",
            " [0 1 0 1 0 1 0 1]\n",
            " [1 0 1 0 1 0 1 0]\n",
            " [0 1 0 1 0 1 0 1]\n",
            " [1 0 1 0 1 0 1 0]]\n"
          ]
        }
      ],
      "source": [
        "checkerboard = np.array([[0, 1], [1, 0]])\n",
        "matrix = np.tile(checkerboard, (4, 4))\n",
        "\n",
        "print(matrix)"
      ]
    },
    {
      "cell_type": "markdown",
      "metadata": {
        "id": "fnnnwW-KSiM9"
      },
      "source": [
        "#### 22. Normalize a 5x5 random matrix (★☆☆) \n",
        "(**hint**: (x - min) / (max - min))"
      ]
    },
    {
      "cell_type": "code",
      "execution_count": 23,
      "metadata": {
        "id": "Amq2R3FkSiM9",
        "colab": {
          "base_uri": "https://localhost:8080/"
        },
        "outputId": "61036de3-97c0-464d-dc85-3f42b9aa223a"
      },
      "outputs": [
        {
          "output_type": "stream",
          "name": "stdout",
          "text": [
            "[[1.         0.99834348 0.6166852  0.59854603 0.89143438]\n",
            " [0.47465499 0.95823596 0.39626206 0.03366354 0.34649676]\n",
            " [0.42653551 0.03756819 0.28599617 0.48029065 0.14410529]\n",
            " [0.20914141 0.59101379 0.71468021 0.38125239 0.8790856 ]\n",
            " [0.93316199 0.42282948 0.66160518 0.03990749 0.03490239]]\n"
          ]
        }
      ],
      "source": [
        "matrix = np.random.rand(5, 5)\n",
        "matrix_normalized = matrix / np.max(matrix)\n",
        "\n",
        "print(matrix_normalized)"
      ]
    },
    {
      "cell_type": "markdown",
      "metadata": {
        "id": "CcF1xzDBSiM9"
      },
      "source": [
        "#### 23. Create a custom dtype that describes a color as four unsigned bytes (RGBA) (★☆☆) \n",
        "(**hint**: np.dtype)"
      ]
    },
    {
      "cell_type": "code",
      "execution_count": 24,
      "metadata": {
        "collapsed": true,
        "id": "ZdDEgy2ZSiM9",
        "colab": {
          "base_uri": "https://localhost:8080/"
        },
        "outputId": "3c859b7e-05f1-4386-e908-61cd226ed32b"
      },
      "outputs": [
        {
          "output_type": "stream",
          "name": "stdout",
          "text": [
            "(255, 0, 0, 255)\n"
          ]
        }
      ],
      "source": [
        "color_dtype = np.dtype([('R', np.uint8), ('G', np.uint8), ('B', np.uint8), ('A', np.uint8)])\n",
        "color = np.array((255, 0, 0, 255), dtype=color_dtype)\n",
        "\n",
        "print(color)"
      ]
    },
    {
      "cell_type": "markdown",
      "metadata": {
        "id": "oTk3O0_0SiM9"
      },
      "source": [
        "#### 24. Multiply a 5x3 matrix by a 3x2 matrix (real matrix product) (★☆☆) \n",
        "(**hint**: np.dot | @)"
      ]
    },
    {
      "cell_type": "code",
      "execution_count": 25,
      "metadata": {
        "id": "J3b-RS3QSiM-",
        "colab": {
          "base_uri": "https://localhost:8080/"
        },
        "outputId": "a52e51e1-5344-41eb-9f96-e15885a1300e"
      },
      "outputs": [
        {
          "output_type": "stream",
          "name": "stdout",
          "text": [
            "[[0.88857862 0.98595063]\n",
            " [0.55800054 0.53735743]\n",
            " [0.25244207 0.32335161]\n",
            " [0.32109139 0.27801825]\n",
            " [0.48931295 0.31083992]]\n"
          ]
        }
      ],
      "source": [
        "matrix1 = np.random.rand(5, 3)\n",
        "matrix2 = np.random.rand(3, 2)\n",
        "product = np.dot(matrix1, matrix2)\n",
        "\n",
        "print(product)"
      ]
    },
    {
      "cell_type": "markdown",
      "metadata": {
        "id": "ebLxRoX0SiM-"
      },
      "source": [
        "#### 25. Given a 1D array, negate all elements which are between 3 and 8, in place. (★☆☆) \n",
        "(**hint**: >, <=)"
      ]
    },
    {
      "cell_type": "code",
      "execution_count": 27,
      "metadata": {
        "id": "sCPIYKEwSiM-",
        "colab": {
          "base_uri": "https://localhost:8080/"
        },
        "outputId": "cc250143-4a07-48e9-e533-ddbe85679f7b"
      },
      "outputs": [
        {
          "output_type": "stream",
          "name": "stdout",
          "text": [
            "[ 0  1  2  3 -4 -5 -6 -7 -8  9]\n"
          ]
        }
      ],
      "source": [
        "arr = np.array([0, 1, 2, 3, 4, 5, 6, 7, 8, 9])\n",
        "arr[(arr > 3) & (arr <= 8)] *= -1\n",
        "\n",
        "print(arr)"
      ]
    },
    {
      "cell_type": "markdown",
      "metadata": {
        "id": "9c3BQYvwSiM-"
      },
      "source": [
        "#### 26. What is the output of the following script? (★☆☆) \n",
        "(**hint**: np.sum)"
      ]
    },
    {
      "cell_type": "markdown",
      "metadata": {
        "id": "59AmVDtsSiM-"
      },
      "source": [
        "```python\n",
        "# Author: Jake VanderPlas\n",
        "\n",
        "print(sum(range(5),-1))\n",
        "from numpy import *\n",
        "print(sum(range(5),-1))\n",
        "```"
      ]
    },
    {
      "cell_type": "code",
      "execution_count": 26,
      "metadata": {
        "id": "YhuyVvZaSiM-",
        "colab": {
          "base_uri": "https://localhost:8080/"
        },
        "outputId": "4bf00495-9ae0-4667-d681-27cb5918b4e4"
      },
      "outputs": [
        {
          "output_type": "stream",
          "name": "stdout",
          "text": [
            "9\n",
            "10\n"
          ]
        }
      ],
      "source": [
        "\n",
        "print(sum(range(5),-1))\n",
        "from numpy import *\n",
        "print(sum(range(5),-1))"
      ]
    },
    {
      "cell_type": "markdown",
      "metadata": {
        "id": "NLmKsjN7SiM_"
      },
      "source": [
        "#### 27. Consider an integer vector Z, which of these expressions are legal? (★☆☆)"
      ]
    },
    {
      "cell_type": "markdown",
      "metadata": {
        "id": "HYOHw5JuSiM_"
      },
      "source": [
        "```python\n",
        "Z**Z\n",
        "2 << Z >> 2\n",
        "Z <- Z\n",
        "1j*Z\n",
        "Z/1/1\n",
        "Z<Z>Z\n",
        "```"
      ]
    },
    {
      "cell_type": "code",
      "execution_count": 11,
      "metadata": {
        "id": "_EIote5BSiM_"
      },
      "outputs": [],
      "source": [
        "'''Z**Z\n",
        "2 << Z >> 2\n",
        "Z <- Z\n",
        "1j*Z\n",
        "Z/1/1\n",
        "are all legal'''\n"
      ]
    },
    {
      "cell_type": "markdown",
      "metadata": {
        "id": "-N-KfAwISiM_"
      },
      "source": [
        "#### 28. What are the result of the following expressions?"
      ]
    },
    {
      "cell_type": "markdown",
      "metadata": {
        "id": "WHxK84y4SiM_"
      },
      "source": [
        "```python\n",
        "np.array(0) / np.array(0)\n",
        "np.array(0) // np.array(0)\n",
        "np.array([np.nan]).astype(int).astype(float)\n",
        "```"
      ]
    },
    {
      "cell_type": "code",
      "execution_count": 28,
      "metadata": {
        "id": "84f3J40cSiNA",
        "colab": {
          "base_uri": "https://localhost:8080/"
        },
        "outputId": "99712fac-32f7-4675-e6af-b6fe944f151f"
      },
      "outputs": [
        {
          "output_type": "stream",
          "name": "stderr",
          "text": [
            "<ipython-input-28-cd809174da5d>:1: RuntimeWarning: invalid value encountered in true_divide\n",
            "  np.array(0) / np.array(0)\n",
            "<ipython-input-28-cd809174da5d>:2: RuntimeWarning: divide by zero encountered in floor_divide\n",
            "  np.array(0) // np.array(0)\n"
          ]
        },
        {
          "output_type": "execute_result",
          "data": {
            "text/plain": [
              "array([-9.22337204e+18])"
            ]
          },
          "metadata": {},
          "execution_count": 28
        }
      ],
      "source": [
        "np.array(0) / np.array(0)\n",
        "np.array(0) // np.array(0)\n",
        "np.array([np.nan]).astype(int).astype(float)"
      ]
    },
    {
      "cell_type": "markdown",
      "metadata": {
        "id": "RfdiechQSiNA"
      },
      "source": [
        "#### 29. How to round away from zero a float array ? (★☆☆) \n",
        "(**hint**: np.uniform, np.copysign, np.ceil, np.abs)"
      ]
    },
    {
      "cell_type": "code",
      "execution_count": 29,
      "metadata": {
        "id": "ni_0rOk2SiNA",
        "colab": {
          "base_uri": "https://localhost:8080/"
        },
        "outputId": "ef8b8cb5-b0b3-411e-adf0-8977dfd1fc3f"
      },
      "outputs": [
        {
          "output_type": "stream",
          "name": "stdout",
          "text": [
            "[-1.70300031  1.21299589  2.90745259  3.33378979  1.76328177 -1.03465226\n",
            " -4.63588226 -0.57429535 -0.79281812 -4.16585227]\n",
            "[-2.  2.  3.  4.  2. -2. -5. -1. -1. -5.]\n"
          ]
        }
      ],
      "source": [
        "arr = np.random.uniform(-5, 5, 10)\n",
        "arr_rounded = np.ceil(np.abs(arr)) * np.copysign(1, arr)\n",
        "\n",
        "print(arr)\n",
        "print(arr_rounded)"
      ]
    },
    {
      "cell_type": "markdown",
      "metadata": {
        "id": "CNW9htjwSiNA"
      },
      "source": [
        "#### 30. How to find common values between two arrays? (★☆☆) \n",
        "(**hint**: np.intersect1d)"
      ]
    },
    {
      "cell_type": "code",
      "execution_count": 30,
      "metadata": {
        "id": "3AQo5D8TSiNA",
        "colab": {
          "base_uri": "https://localhost:8080/"
        },
        "outputId": "1941529c-0cb7-4a47-e9df-84bf059a2c38"
      },
      "outputs": [
        {
          "output_type": "stream",
          "name": "stdout",
          "text": [
            "[3 4 5]\n"
          ]
        }
      ],
      "source": [
        "arr1 = np.array([1, 2, 3, 4, 5])\n",
        "arr2 = np.array([3, 4, 5, 6, 7])\n",
        "common = np.intersect1d(arr1, arr2)\n",
        "\n",
        "print(common)"
      ]
    },
    {
      "cell_type": "markdown",
      "metadata": {
        "id": "I4gYb9wlSiNA"
      },
      "source": [
        "#### 31. How to ignore all numpy warnings (not recommended)? (★☆☆) \n",
        "(**hint**: np.seterr, np.errstate)"
      ]
    },
    {
      "cell_type": "code",
      "execution_count": 31,
      "metadata": {
        "id": "ln8k-zS-SiNB"
      },
      "outputs": [],
      "source": [
        "np.seterr(all='ignore')\n",
        "with np.errstate():\n",
        "    pass"
      ]
    },
    {
      "cell_type": "markdown",
      "metadata": {
        "id": "329JXlAISiNB"
      },
      "source": [
        "#### 32. Is the following expressions true? (★☆☆) \n",
        "(**hint**: imaginary number)"
      ]
    },
    {
      "cell_type": "markdown",
      "metadata": {
        "id": "hkZ87UOISiNB"
      },
      "source": [
        "```python\n",
        "np.sqrt(-1) == np.emath.sqrt(-1)\n",
        "```"
      ]
    },
    {
      "cell_type": "code",
      "execution_count": 32,
      "metadata": {
        "id": "DcoG9klUSiNB",
        "colab": {
          "base_uri": "https://localhost:8080/"
        },
        "outputId": "5aeff732-b32e-48a8-d9bf-86fc92b86236"
      },
      "outputs": [
        {
          "output_type": "execute_result",
          "data": {
            "text/plain": [
              "False"
            ]
          },
          "metadata": {},
          "execution_count": 32
        }
      ],
      "source": [
        "np.sqrt(-1) == np.emath.sqrt(-1)"
      ]
    },
    {
      "cell_type": "markdown",
      "metadata": {
        "id": "Gmn_CroYSiNC"
      },
      "source": [
        "#### 33. How to get the dates of yesterday, today and tomorrow? (★☆☆) \n",
        "(**hint**: np.datetime64, np.timedelta64)"
      ]
    },
    {
      "cell_type": "code",
      "execution_count": 33,
      "metadata": {
        "collapsed": true,
        "id": "LWBvgeSYSiNC",
        "colab": {
          "base_uri": "https://localhost:8080/"
        },
        "outputId": "c0677c08-3fd8-495b-c5c2-ce4e7ec664fa"
      },
      "outputs": [
        {
          "output_type": "stream",
          "name": "stdout",
          "text": [
            "2023-02-28 2023-03-01 2023-03-02\n"
          ]
        }
      ],
      "source": [
        "today = np.datetime64('today')\n",
        "\n",
        "yesterday = today - np.timedelta64(1, 'D')\n",
        "\n",
        "tomorrow = today + np.timedelta64(1, 'D')\n",
        "\n",
        "print(yesterday, today, tomorrow)"
      ]
    },
    {
      "cell_type": "markdown",
      "metadata": {
        "id": "1qB96UaZSiNC"
      },
      "source": [
        "#### 34. How to get all the dates corresponding to the month of July 2016? (★★☆) \n",
        "(**hint**: np.arange(dtype=datetime64\\['D'\\]))"
      ]
    },
    {
      "cell_type": "code",
      "execution_count": 34,
      "metadata": {
        "id": "urFUPogcSiND",
        "colab": {
          "base_uri": "https://localhost:8080/"
        },
        "outputId": "7e12f30d-3b5f-4cf7-da87-d6e26bfb44b4"
      },
      "outputs": [
        {
          "output_type": "stream",
          "name": "stdout",
          "text": [
            "['2016-07-01' '2016-07-02' '2016-07-03' '2016-07-04' '2016-07-05'\n",
            " '2016-07-06' '2016-07-07' '2016-07-08' '2016-07-09' '2016-07-10'\n",
            " '2016-07-11' '2016-07-12' '2016-07-13' '2016-07-14' '2016-07-15'\n",
            " '2016-07-16' '2016-07-17' '2016-07-18' '2016-07-19' '2016-07-20'\n",
            " '2016-07-21' '2016-07-22' '2016-07-23' '2016-07-24' '2016-07-25'\n",
            " '2016-07-26' '2016-07-27' '2016-07-28' '2016-07-29' '2016-07-30'\n",
            " '2016-07-31']\n"
          ]
        }
      ],
      "source": [
        "start = np.datetime64('2016-07-01')\n",
        "days_in_month = np.datetime64('2016-08-01') - start\n",
        "\n",
        "dates = np.arange(start, start + days_in_month, np.timedelta64(1, 'D'))\n",
        "\n",
        "print(dates)"
      ]
    },
    {
      "cell_type": "markdown",
      "metadata": {
        "id": "lOtK_AErSiND"
      },
      "source": [
        "#### 35. How to compute ((A+B)\\*(-A/2)) in place (without copy)? (★★☆) \n",
        "(**hint**: np.add(out=), np.negative(out=), np.multiply(out=), np.divide(out=))"
      ]
    },
    {
      "cell_type": "code",
      "execution_count": 36,
      "metadata": {
        "id": "Mj2eht3MSiND",
        "colab": {
          "base_uri": "https://localhost:8080/"
        },
        "outputId": "22f32d31-a372-4f27-d618-60db7176f94a"
      },
      "outputs": [
        {
          "output_type": "stream",
          "name": "stdout",
          "text": [
            "[ -5 -14 -27]\n"
          ]
        }
      ],
      "source": [
        "A = np.array([1, 2, 3])\n",
        "B = np.array([4, 5, 6])\n",
        "\n",
        "np.add(A, B, out=B)\n",
        "np.negative(A, out=A)\n",
        "# np.divide(A, 2, out=A)\n",
        "np.multiply(A, B, out=B)\n",
        "\n",
        "print(B)"
      ]
    },
    {
      "cell_type": "markdown",
      "metadata": {
        "id": "NBTjmC2KSiND"
      },
      "source": [
        "#### 36. Extract the integer part of a random array using 5 different methods (★★☆) \n",
        "(**hint**: %, np.floor, np.ceil, astype, np.trunc)"
      ]
    },
    {
      "cell_type": "code",
      "execution_count": 37,
      "metadata": {
        "id": "bodQCvIbSiNE",
        "colab": {
          "base_uri": "https://localhost:8080/"
        },
        "outputId": "09c66b63-916a-41ee-cb9b-d3d869118f87"
      },
      "outputs": [
        {
          "output_type": "stream",
          "name": "stdout",
          "text": [
            "[5. 8. 3. 3. 4.]\n"
          ]
        }
      ],
      "source": [
        "arr = np.random.uniform(-10, 10, size=(5,))\n",
        "integer_part = arr // 1 \n",
        "\n",
        "print(integer_part)"
      ]
    },
    {
      "cell_type": "code",
      "source": [
        "arr = np.random.uniform(-10, 10, size=(5,))\n",
        "integer_part = np.floor(arr)\n",
        "\n",
        "print(integer_part)"
      ],
      "metadata": {
        "colab": {
          "base_uri": "https://localhost:8080/"
        },
        "id": "iZkFXbQe8uSQ",
        "outputId": "11f986b9-9d70-4737-92cb-752c4dde2c3c"
      },
      "execution_count": 38,
      "outputs": [
        {
          "output_type": "stream",
          "name": "stdout",
          "text": [
            "[ 9. -4. -5. -3. -4.]\n"
          ]
        }
      ]
    },
    {
      "cell_type": "code",
      "source": [
        "arr = np.random.uniform(-10, 10, size=(5,))\n",
        "integer_part = np.ceil(arr) - 1\n",
        "\n",
        "print(integer_part)"
      ],
      "metadata": {
        "colab": {
          "base_uri": "https://localhost:8080/"
        },
        "id": "anJuuwq28uHD",
        "outputId": "818c02d8-2751-4e58-a5b2-706deca5e1e4"
      },
      "execution_count": 39,
      "outputs": [
        {
          "output_type": "stream",
          "name": "stdout",
          "text": [
            "[  4.   0.  -7. -10.   7.]\n"
          ]
        }
      ]
    },
    {
      "cell_type": "code",
      "source": [
        "arr = np.random.uniform(-10, 10, size=(5,))\n",
        "integer_part = arr.astype(int)\n",
        "\n",
        "print(integer_part)"
      ],
      "metadata": {
        "colab": {
          "base_uri": "https://localhost:8080/"
        },
        "id": "fbAEHwAS8t9e",
        "outputId": "10555864-cd40-4743-9ac6-9782c4c775f6"
      },
      "execution_count": 40,
      "outputs": [
        {
          "output_type": "stream",
          "name": "stdout",
          "text": [
            "[ 3 -5 -6  2 -5]\n"
          ]
        }
      ]
    },
    {
      "cell_type": "code",
      "source": [
        "arr = np.random.uniform(-10, 10, size=(5,))\n",
        "integer_part = np.trunc(arr)\n",
        "\n",
        "print(integer_part)"
      ],
      "metadata": {
        "colab": {
          "base_uri": "https://localhost:8080/"
        },
        "id": "U33dVVUx8tzV",
        "outputId": "d0c4f883-37fc-4846-bd19-4f5f73fe9da2"
      },
      "execution_count": 41,
      "outputs": [
        {
          "output_type": "stream",
          "name": "stdout",
          "text": [
            "[ 4.  7. -4.  2. -2.]\n"
          ]
        }
      ]
    },
    {
      "cell_type": "markdown",
      "metadata": {
        "id": "WEIQWAjISiNE"
      },
      "source": [
        "#### 37. Create a 5x5 matrix with row values ranging from 0 to 4 (★★☆) \n",
        "(**hint**: np.arange)"
      ]
    },
    {
      "cell_type": "code",
      "execution_count": 42,
      "metadata": {
        "id": "LcZjvONASiNE",
        "colab": {
          "base_uri": "https://localhost:8080/"
        },
        "outputId": "22f9df5e-97cd-42b0-e8e0-681075307d04"
      },
      "outputs": [
        {
          "output_type": "stream",
          "name": "stdout",
          "text": [
            "[[0 1 2 3 4]\n",
            " [0 1 2 3 4]\n",
            " [0 1 2 3 4]\n",
            " [0 1 2 3 4]\n",
            " [0 1 2 3 4]]\n"
          ]
        }
      ],
      "source": [
        "arr = np.arange(5)\n",
        "mat = np.tile(arr, (5, 1))\n",
        "\n",
        "print(mat)"
      ]
    },
    {
      "cell_type": "markdown",
      "metadata": {
        "id": "Nj3HYQD5SiNF"
      },
      "source": [
        "#### 38. Consider a generator function that generates 10 integers and use it to build an array (★☆☆) \n",
        "(**hint**: np.fromiter)"
      ]
    },
    {
      "cell_type": "code",
      "execution_count": 43,
      "metadata": {
        "id": "Ucczhbw2SiNF",
        "colab": {
          "base_uri": "https://localhost:8080/"
        },
        "outputId": "6057c3e5-5369-40f5-a667-9095f321c510"
      },
      "outputs": [
        {
          "output_type": "stream",
          "name": "stdout",
          "text": [
            "[0 1 2 3 4 5 6 7 8 9]\n"
          ]
        }
      ],
      "source": [
        "def my_generator():\n",
        "    for i in range(10):\n",
        "        yield i\n",
        "\n",
        "arr = np.fromiter(my_generator(), dtype=int)\n",
        "\n",
        "print(arr)"
      ]
    },
    {
      "cell_type": "markdown",
      "metadata": {
        "id": "U0DqklP1SiNF"
      },
      "source": [
        "#### 39. Create a vector of size 10 with values ranging from 0 to 1, both excluded (★★☆) \n",
        "(**hint**: np.linspace)"
      ]
    },
    {
      "cell_type": "code",
      "execution_count": 44,
      "metadata": {
        "id": "KjBdxnRYSiNG",
        "colab": {
          "base_uri": "https://localhost:8080/"
        },
        "outputId": "2e0ff96d-436e-4ac0-89f4-54edfc029641"
      },
      "outputs": [
        {
          "output_type": "stream",
          "name": "stdout",
          "text": [
            "[0.  0.1 0.2 0.3 0.4 0.5 0.6 0.7 0.8 0.9]\n"
          ]
        }
      ],
      "source": [
        "vec = np.linspace(0, 1, num=10, endpoint=False)\n",
        "\n",
        "print(vec)"
      ]
    },
    {
      "cell_type": "markdown",
      "metadata": {
        "id": "AQDFz6VISiNG"
      },
      "source": [
        "#### 40. Create a random vector of size 10 and sort it (★★☆) \n",
        "(**hint**: sort)"
      ]
    },
    {
      "cell_type": "code",
      "execution_count": 45,
      "metadata": {
        "id": "nM1fdAGJSiNG",
        "colab": {
          "base_uri": "https://localhost:8080/"
        },
        "outputId": "106f0bd4-5f8d-4736-979b-819084e4551b"
      },
      "outputs": [
        {
          "output_type": "stream",
          "name": "stdout",
          "text": [
            "[0.05366928 0.10759441 0.19301017 0.26253035 0.27382979 0.34591577\n",
            " 0.37870086 0.47870748 0.55114555 0.92494332]\n"
          ]
        }
      ],
      "source": [
        "v = np.random.rand(10)\n",
        "\n",
        "v_sorted = np.sort(v)\n",
        "\n",
        "print(v_sorted)"
      ]
    },
    {
      "cell_type": "markdown",
      "metadata": {
        "id": "SdFVeLUNSiNG"
      },
      "source": [
        "#### 41. How to sum a small array faster than np.sum? (★★☆) \n",
        "(**hint**: np.add.reduce)"
      ]
    },
    {
      "cell_type": "code",
      "execution_count": 46,
      "metadata": {
        "id": "ncAZ8YIpSiNH",
        "colab": {
          "base_uri": "https://localhost:8080/"
        },
        "outputId": "6e8d7427-5f45-44e1-fb8d-a5b11ea9c2bd"
      },
      "outputs": [
        {
          "output_type": "stream",
          "name": "stdout",
          "text": [
            "15\n"
          ]
        }
      ],
      "source": [
        "a = np.array([1, 2, 3, 4, 5])\n",
        "\n",
        "sum_a = np.add.reduce(a)\n",
        "\n",
        "print(sum_a)"
      ]
    },
    {
      "cell_type": "markdown",
      "metadata": {
        "id": "0au0xAxHSiNH"
      },
      "source": [
        "#### 42. Consider two random array A and B, check if they are equal (★★☆) \n",
        "(**hint**: np.allclose, np.array\\_equal)"
      ]
    },
    {
      "cell_type": "code",
      "execution_count": 47,
      "metadata": {
        "id": "3ThkmjZxSiNH",
        "colab": {
          "base_uri": "https://localhost:8080/"
        },
        "outputId": "60850b3d-0187-468f-e8e5-cc1436692a90"
      },
      "outputs": [
        {
          "output_type": "stream",
          "name": "stdout",
          "text": [
            "The arrays A and B are not equal\n"
          ]
        }
      ],
      "source": [
        "A = np.random.rand(3, 3)\n",
        "B = np.random.rand(3, 3)\n",
        "\n",
        "if np.array_equal(A, B):\n",
        "    print(\"The arrays A and B are equal\")\n",
        "else:\n",
        "    print(\"The arrays A and B are not equal\")"
      ]
    },
    {
      "cell_type": "markdown",
      "metadata": {
        "id": "0visxchhSiNH"
      },
      "source": [
        "#### 43. Make an array immutable (read-only) (★★☆) \n",
        "(**hint**: flags.writeable)"
      ]
    },
    {
      "cell_type": "code",
      "execution_count": 48,
      "metadata": {
        "id": "Z5rZLyqXSiNI",
        "colab": {
          "base_uri": "https://localhost:8080/",
          "height": 200
        },
        "outputId": "48d9f96a-e750-4193-981e-3530c7bbfacf"
      },
      "outputs": [
        {
          "output_type": "error",
          "ename": "ValueError",
          "evalue": "ignored",
          "traceback": [
            "\u001b[0;31m---------------------------------------------------------------------------\u001b[0m",
            "\u001b[0;31mValueError\u001b[0m                                Traceback (most recent call last)",
            "\u001b[0;32m<ipython-input-48-2310389eee78>\u001b[0m in \u001b[0;36m<module>\u001b[0;34m\u001b[0m\n\u001b[1;32m      2\u001b[0m \u001b[0marr\u001b[0m\u001b[0;34m.\u001b[0m\u001b[0mflags\u001b[0m\u001b[0;34m.\u001b[0m\u001b[0mwriteable\u001b[0m \u001b[0;34m=\u001b[0m \u001b[0;32mFalse\u001b[0m\u001b[0;34m\u001b[0m\u001b[0;34m\u001b[0m\u001b[0m\n\u001b[1;32m      3\u001b[0m \u001b[0;34m\u001b[0m\u001b[0m\n\u001b[0;32m----> 4\u001b[0;31m \u001b[0marr\u001b[0m\u001b[0;34m[\u001b[0m\u001b[0;36m0\u001b[0m\u001b[0;34m]\u001b[0m \u001b[0;34m=\u001b[0m \u001b[0;36m10\u001b[0m\u001b[0;34m\u001b[0m\u001b[0;34m\u001b[0m\u001b[0m\n\u001b[0m",
            "\u001b[0;31mValueError\u001b[0m: assignment destination is read-only"
          ]
        }
      ],
      "source": [
        "arr = np.array([1, 2, 3, 4, 5])\n",
        "arr.flags.writeable = False\n",
        "\n",
        "arr[0] = 10 "
      ]
    },
    {
      "cell_type": "markdown",
      "metadata": {
        "id": "Woq62jlOSiNI"
      },
      "source": [
        "#### 44. Consider a random 10x2 matrix representing cartesian coordinates, convert them to polar coordinates (★★☆) \n",
        "(**hint**: np.sqrt, np.arctan2)"
      ]
    },
    {
      "cell_type": "code",
      "execution_count": 49,
      "metadata": {
        "id": "Ri07jvJsSiNI",
        "colab": {
          "base_uri": "https://localhost:8080/"
        },
        "outputId": "e1571a90-26c5-41cf-d89d-4adbc8b37d3f"
      },
      "outputs": [
        {
          "output_type": "stream",
          "name": "stdout",
          "text": [
            "[[ 0.63303536  0.5802378 ]\n",
            " [ 0.17435929  3.95094917]\n",
            " [ 0.552385   61.23275417]\n",
            " [ 1.0662376  67.2423592 ]\n",
            " [ 1.31777408 45.87390483]\n",
            " [ 0.99469385 30.33013054]\n",
            " [ 1.21414562 50.66475415]\n",
            " [ 1.09713666 31.15696392]\n",
            " [ 0.94146669  0.4254001 ]\n",
            " [ 1.21393956 38.18148782]]\n"
          ]
        }
      ],
      "source": [
        "cartesian = np.random.random((10, 2))\n",
        "\n",
        "# Compute radial distance\n",
        "r = np.sqrt(np.sum(cartesian**2, axis=1))\n",
        "\n",
        "# Compute angle\n",
        "theta = np.arctan2(cartesian[:,1], cartesian[:,0])\n",
        "\n",
        "# Convert angle to degrees\n",
        "theta_degrees = np.rad2deg(theta)\n",
        "\n",
        "# Create polar coordinates matrix\n",
        "polar = np.column_stack((r, theta_degrees))\n",
        "\n",
        "print(polar)"
      ]
    },
    {
      "cell_type": "markdown",
      "metadata": {
        "id": "epteA5UWSiNJ"
      },
      "source": [
        "#### 45. Create random vector of size 10 and replace the maximum value by 0 (★★☆) \n",
        "(**hint**: argmax)"
      ]
    },
    {
      "cell_type": "code",
      "execution_count": 51,
      "metadata": {
        "id": "8Zb88bt5SiNJ",
        "colab": {
          "base_uri": "https://localhost:8080/"
        },
        "outputId": "7a7e7c9e-fdad-4035-f929-4c137518166d"
      },
      "outputs": [
        {
          "output_type": "stream",
          "name": "stdout",
          "text": [
            "[0.64257486 0.74888728 0.81022233 0.60425462 0.87082267 0.98237271\n",
            " 0.30552034 0.         0.51018985 0.60602582]\n"
          ]
        }
      ],
      "source": [
        "v = np.random.rand(10)\n",
        "\n",
        "# Find the index of the maximum value\n",
        "max_idx = np.argmax(v)\n",
        "\n",
        "# Replace the maximum value by 0\n",
        "v[max_idx] = 0\n",
        "\n",
        "print(v)"
      ]
    },
    {
      "cell_type": "markdown",
      "metadata": {
        "id": "-rdxl2T6SiNJ"
      },
      "source": [
        "#### 46. Create a structured array with `x` and `y` coordinates covering the \\[0,1\\]x\\[0,1\\] area (★★☆) \n",
        "(**hint**: np.meshgrid)"
      ]
    },
    {
      "cell_type": "code",
      "execution_count": 52,
      "metadata": {
        "id": "ppb9O6cxSiNK"
      },
      "outputs": [],
      "source": [
        "import numpy as np\n",
        "\n",
        "X = np.array([1, 2, 3])\n",
        "Y = np.array([4, 5, 6])\n",
        "C = 1 / np.subtract.outer(X, Y)"
      ]
    },
    {
      "cell_type": "markdown",
      "metadata": {
        "id": "tRVTrr4YSiNK"
      },
      "source": [
        "####  47. Given two arrays, X and Y, construct the Cauchy matrix C (Cij =1/(xi - yj)) \n",
        "(**hint**: np.subtract.outer)"
      ]
    },
    {
      "cell_type": "code",
      "execution_count": 53,
      "metadata": {
        "id": "kTwOKQbpSiNK",
        "colab": {
          "base_uri": "https://localhost:8080/"
        },
        "outputId": "bda1a0a7-52b1-4f53-d342-3d8d4e082e43"
      },
      "outputs": [
        {
          "output_type": "stream",
          "name": "stdout",
          "text": [
            "int8 -128 127\n",
            "int16 -32768 32767\n",
            "int32 -2147483648 2147483647\n",
            "int64 -9223372036854775808 9223372036854775807\n",
            "float16 -65500.0 65500.0\n",
            "float32 -3.4028235e+38 3.4028235e+38\n",
            "float64 -1.7976931348623157e+308 1.7976931348623157e+308\n",
            "complex64 -3.4028235e+38 3.4028235e+38\n",
            "complex128 -1.7976931348623157e+308 1.7976931348623157e+308\n"
          ]
        }
      ],
      "source": [
        "dtypes = ['int8', 'int16', 'int32', 'int64', 'float16', 'float32', 'float64', 'complex64', 'complex128']\n",
        "\n",
        "for dtype in dtypes:\n",
        "    info = np.iinfo(dtype) if 'int' in dtype else np.finfo(dtype)\n",
        "    print(dtype, info.min, info.max)"
      ]
    },
    {
      "cell_type": "markdown",
      "metadata": {
        "id": "-jeXtHb8SiNK"
      },
      "source": [
        "#### 48. Print the minimum and maximum representable value for each numpy scalar type (★★☆) \n",
        "(**hint**: np.iinfo, np.finfo, eps)"
      ]
    },
    {
      "cell_type": "code",
      "execution_count": 54,
      "metadata": {
        "id": "IjkbN6DcSiNK",
        "colab": {
          "base_uri": "https://localhost:8080/"
        },
        "outputId": "254cf76d-3495-409f-f65a-32dca1a2e7af"
      },
      "outputs": [
        {
          "output_type": "stream",
          "name": "stdout",
          "text": [
            "Integer types:\n",
            "<class 'numpy.int8'>: min=-128, max=127\n",
            "<class 'numpy.int16'>: min=-32768, max=32767\n",
            "<class 'numpy.int32'>: min=-2147483648, max=2147483647\n",
            "<class 'numpy.int64'>: min=-9223372036854775808, max=9223372036854775807\n",
            "\n",
            "Floating-point types:\n",
            "<class 'numpy.float16'>: min=-65504.0, max=65504.0, eps=0.0009765625\n",
            "<class 'numpy.float32'>: min=-3.4028234663852886e+38, max=3.4028234663852886e+38, eps=1.1920928955078125e-07\n",
            "<class 'numpy.float64'>: min=-1.7976931348623157e+308, max=1.7976931348623157e+308, eps=2.220446049250313e-16\n"
          ]
        }
      ],
      "source": [
        "print(\"Integer types:\")\n",
        "for dtype in [np.int8, np.int16, np.int32, np.int64]:\n",
        "    info = np.iinfo(dtype)\n",
        "    print(f\"{dtype}: min={info.min}, max={info.max}\")\n",
        "    \n",
        "# Floating-point types\n",
        "print(\"\\nFloating-point types:\")\n",
        "for dtype in [np.float16, np.float32, np.float64]:\n",
        "    info = np.finfo(dtype)\n",
        "    print(f\"{dtype}: min={info.min}, max={info.max}, eps={info.eps}\")"
      ]
    },
    {
      "cell_type": "markdown",
      "metadata": {
        "id": "1GTO5tvmSiNL"
      },
      "source": [
        "#### 49. How to print all the values of an array? (★★☆) \n",
        "(**hint**: np.set\\_printoptions)"
      ]
    },
    {
      "cell_type": "code",
      "execution_count": 55,
      "metadata": {
        "id": "k4qhuww3SiNL",
        "colab": {
          "base_uri": "https://localhost:8080/"
        },
        "outputId": "138eaf26-55db-4b32-e344-211f9f7fe2a1"
      },
      "outputs": [
        {
          "output_type": "stream",
          "name": "stdout",
          "text": [
            "[[0.77071232 0.71338181 0.47369956 0.85546526 0.61919828]\n",
            " [0.08575047 0.78669943 0.19183529 0.0575159  0.75838533]\n",
            " [0.99499705 0.55218404 0.99240205 0.80623383 0.76771885]\n",
            " [0.8894936  0.96754302 0.31000336 0.24402071 0.67722197]\n",
            " [0.48211438 0.1276635  0.53507127 0.82382163 0.68586855]]\n"
          ]
        }
      ],
      "source": [
        "arr = np.random.rand(5, 5)\n",
        "np.set_printoptions(threshold=np.inf)\n",
        "print(arr)"
      ]
    },
    {
      "cell_type": "markdown",
      "metadata": {
        "id": "qckGi5nRSiNL"
      },
      "source": [
        "#### 50. How to find the closest value (to a given scalar) in a vector? (★★☆) \n",
        "(**hint**: argmin)"
      ]
    },
    {
      "cell_type": "code",
      "execution_count": 56,
      "metadata": {
        "id": "He9rhhmuSiNL",
        "colab": {
          "base_uri": "https://localhost:8080/"
        },
        "outputId": "fdcbc7a8-cbfc-4c5b-e9f4-96769c1be094"
      },
      "outputs": [
        {
          "output_type": "stream",
          "name": "stdout",
          "text": [
            "Closest value to 0.5 is 0.49617379800538963\n"
          ]
        }
      ],
      "source": [
        "x = np.random.rand(10)\n",
        "y = 0.5\n",
        "\n",
        "index = np.abs(x - y).argmin()\n",
        "\n",
        "print(\"Closest value to {} is {}\".format(y, x[index]))"
      ]
    },
    {
      "cell_type": "code",
      "source": [],
      "metadata": {
        "id": "dp7OsewP_1p4"
      },
      "execution_count": null,
      "outputs": []
    },
    {
      "cell_type": "markdown",
      "metadata": {
        "id": "pkeLLyW7SiNL"
      },
      "source": [
        "#### 51. Create a structured array representing a position (x,y) and a color (r,g,b) (★★☆) \n",
        "(**hint**: dtype)"
      ]
    },
    {
      "cell_type": "code",
      "execution_count": 11,
      "metadata": {
        "id": "5focHmtDSiNM"
      },
      "outputs": [],
      "source": []
    },
    {
      "cell_type": "markdown",
      "metadata": {
        "id": "2uDofIRMSiNM"
      },
      "source": [
        "#### 52. Consider a random vector with shape (100,2) representing coordinates, find point by point distances (★★☆) \n",
        "(**hint**: np.atleast\\_2d, T, np.sqrt)"
      ]
    },
    {
      "cell_type": "code",
      "execution_count": 11,
      "metadata": {
        "id": "MdoTjK0mSiNM"
      },
      "outputs": [],
      "source": []
    },
    {
      "cell_type": "markdown",
      "metadata": {
        "id": "2qPhV7TGSiNM"
      },
      "source": [
        "#### 53. How to convert a float (32 bits) array into an integer (32 bits) in place? \n",
        "(**hint**: astype(copy=False))"
      ]
    },
    {
      "cell_type": "code",
      "execution_count": 11,
      "metadata": {
        "id": "aPrb3q_zSiNN"
      },
      "outputs": [],
      "source": []
    },
    {
      "cell_type": "markdown",
      "metadata": {
        "id": "e7IMzjTzSiNN"
      },
      "source": [
        "#### 54. How to read the following file? (★★☆) \n",
        "(**hint**: np.genfromtxt)"
      ]
    },
    {
      "cell_type": "markdown",
      "metadata": {
        "id": "gzEpkQ2-SiNN"
      },
      "source": [
        "```\n",
        "1, 2, 3, 4, 5\n",
        "6,  ,  , 7, 8\n",
        " ,  , 9,10,11\n",
        "```"
      ]
    },
    {
      "cell_type": "code",
      "execution_count": 11,
      "metadata": {
        "id": "EUExx37SSiNO"
      },
      "outputs": [],
      "source": []
    },
    {
      "cell_type": "markdown",
      "metadata": {
        "id": "jlsi-CdGSiNO"
      },
      "source": [
        "#### 55. What is the equivalent of enumerate for numpy arrays? (★★☆) \n",
        "(**hint**: np.ndenumerate, np.ndindex)"
      ]
    },
    {
      "cell_type": "code",
      "execution_count": 11,
      "metadata": {
        "id": "SEdpdk3JSiNO"
      },
      "outputs": [],
      "source": []
    },
    {
      "cell_type": "markdown",
      "metadata": {
        "id": "4djpZtZ_SiNO"
      },
      "source": [
        "#### 56. Generate a generic 2D Gaussian-like array (★★☆) \n",
        "(**hint**: np.meshgrid, np.exp)"
      ]
    },
    {
      "cell_type": "code",
      "execution_count": 11,
      "metadata": {
        "id": "BxBU4qLoSiNP"
      },
      "outputs": [],
      "source": []
    },
    {
      "cell_type": "markdown",
      "metadata": {
        "id": "H0bbM_hUSiNP"
      },
      "source": [
        "#### 57. How to randomly place p elements in a 2D array? (★★☆) \n",
        "(**hint**: np.put, np.random.choice)"
      ]
    },
    {
      "cell_type": "code",
      "execution_count": 11,
      "metadata": {
        "id": "1u_iReSFSiNP"
      },
      "outputs": [],
      "source": []
    },
    {
      "cell_type": "markdown",
      "metadata": {
        "id": "BD6m-BsKSiNP"
      },
      "source": [
        "#### 58. Subtract the mean of each row of a matrix (★★☆) \n",
        "(**hint**: mean(axis=,keepdims=))"
      ]
    },
    {
      "cell_type": "code",
      "execution_count": 11,
      "metadata": {
        "id": "WdIJAfbjSiNQ"
      },
      "outputs": [],
      "source": []
    },
    {
      "cell_type": "markdown",
      "metadata": {
        "id": "MU_4a2WzSiNQ"
      },
      "source": [
        "#### 59. How to sort an array by the nth column? (★★☆) \n",
        "(**hint**: argsort)"
      ]
    },
    {
      "cell_type": "code",
      "execution_count": 11,
      "metadata": {
        "id": "Jtm6LFeCSiNQ"
      },
      "outputs": [],
      "source": []
    },
    {
      "cell_type": "markdown",
      "metadata": {
        "id": "YMyZLiG4SiNQ"
      },
      "source": [
        "#### 60. How to tell if a given 2D array has null columns? (★★☆) \n",
        "(**hint**: any, ~)"
      ]
    },
    {
      "cell_type": "code",
      "execution_count": 11,
      "metadata": {
        "id": "GI_6QtcfSiNQ"
      },
      "outputs": [],
      "source": []
    },
    {
      "cell_type": "markdown",
      "metadata": {
        "id": "LQhbQt9rSiNR"
      },
      "source": [
        "#### 61. Find the nearest value from a given value in an array (★★☆) \n",
        "(**hint**: np.abs, argmin, flat)"
      ]
    },
    {
      "cell_type": "code",
      "execution_count": 11,
      "metadata": {
        "id": "pBazObUMSiNR"
      },
      "outputs": [],
      "source": []
    },
    {
      "cell_type": "markdown",
      "metadata": {
        "id": "1rnIfrm4SiNR"
      },
      "source": [
        "#### 62. Considering two arrays with shape (1,3) and (3,1), how to compute their sum using an iterator? (★★☆) \n",
        "(**hint**: np.nditer)"
      ]
    },
    {
      "cell_type": "code",
      "execution_count": 11,
      "metadata": {
        "id": "RMRkheK3SiNR"
      },
      "outputs": [],
      "source": []
    },
    {
      "cell_type": "markdown",
      "metadata": {
        "id": "jx0L9vdPSiNS"
      },
      "source": [
        "#### 63. Create an array class that has a name attribute (★★☆) \n",
        "(**hint**: class method)"
      ]
    },
    {
      "cell_type": "code",
      "execution_count": 11,
      "metadata": {
        "id": "Vv0ADkgESiNS"
      },
      "outputs": [],
      "source": []
    },
    {
      "cell_type": "markdown",
      "metadata": {
        "id": "fUhVvyPLSiNS"
      },
      "source": [
        "#### 64. Consider a given vector, how to add 1 to each element indexed by a second vector (be careful with repeated indices)? (★★★) \n",
        "(**hint**: np.bincount | np.add.at)"
      ]
    },
    {
      "cell_type": "code",
      "execution_count": 11,
      "metadata": {
        "id": "DA-IZGTRSiNT"
      },
      "outputs": [],
      "source": []
    },
    {
      "cell_type": "markdown",
      "metadata": {
        "id": "xv3vnUwlSiNT"
      },
      "source": [
        "#### 65. How to accumulate elements of a vector (X) to an array (F) based on an index list (I)? (★★★) \n",
        "(**hint**: np.bincount)"
      ]
    },
    {
      "cell_type": "code",
      "execution_count": 11,
      "metadata": {
        "id": "H5XUO_PRSiNT"
      },
      "outputs": [],
      "source": []
    },
    {
      "cell_type": "markdown",
      "metadata": {
        "id": "Py51C52TSiNT"
      },
      "source": [
        "#### 66. Considering a (w,h,3) image of (dtype=ubyte), compute the number of unique colors (★★★) \n",
        "(**hint**: np.unique)"
      ]
    },
    {
      "cell_type": "code",
      "execution_count": 11,
      "metadata": {
        "id": "9Vh1DaMiSiNU"
      },
      "outputs": [],
      "source": []
    },
    {
      "cell_type": "markdown",
      "metadata": {
        "id": "U1bYozt-SiNU"
      },
      "source": [
        "#### 67. Considering a four dimensions array, how to get sum over the last two axis at once? (★★★) \n",
        "(**hint**: sum(axis=(-2,-1)))"
      ]
    },
    {
      "cell_type": "code",
      "execution_count": 11,
      "metadata": {
        "id": "BkCTYfo_SiNU"
      },
      "outputs": [],
      "source": []
    },
    {
      "cell_type": "markdown",
      "metadata": {
        "id": "IKtwH7t5SiNU"
      },
      "source": [
        "#### 68. Considering a one-dimensional vector D, how to compute means of subsets of D using a vector S of same size describing subset  indices? (★★★) \n",
        "(**hint**: np.bincount)"
      ]
    },
    {
      "cell_type": "code",
      "execution_count": 11,
      "metadata": {
        "id": "G6Cvo-BOSiNV"
      },
      "outputs": [],
      "source": []
    },
    {
      "cell_type": "markdown",
      "metadata": {
        "id": "P5eHxiCcSiNV"
      },
      "source": [
        "#### 69. How to get the diagonal of a dot product? (★★★) \n",
        "(**hint**: np.diag)"
      ]
    },
    {
      "cell_type": "code",
      "execution_count": 11,
      "metadata": {
        "id": "za9D-hx-SiNV"
      },
      "outputs": [],
      "source": []
    },
    {
      "cell_type": "markdown",
      "metadata": {
        "id": "bY1o39HLSiNV"
      },
      "source": [
        "#### 70. Consider the vector \\[1, 2, 3, 4, 5\\], how to build a new vector with 3 consecutive zeros interleaved between each value? (★★★) \n",
        "(**hint**: array\\[::4\\])"
      ]
    },
    {
      "cell_type": "code",
      "execution_count": 11,
      "metadata": {
        "id": "iDp1xASDSiNW"
      },
      "outputs": [],
      "source": []
    },
    {
      "cell_type": "markdown",
      "metadata": {
        "id": "5H-KzVWWSiNW"
      },
      "source": [
        "#### 71. Consider an array of dimension (5,5,3), how to mulitply it by an array with dimensions (5,5)? (★★★) \n",
        "(**hint**: array\\[:, :, None\\])"
      ]
    },
    {
      "cell_type": "code",
      "execution_count": 11,
      "metadata": {
        "collapsed": true,
        "id": "Zy_z5-wXSiNW"
      },
      "outputs": [],
      "source": []
    },
    {
      "cell_type": "markdown",
      "metadata": {
        "id": "P879qjGQSiNY"
      },
      "source": [
        "#### 72. How to swap two rows of an array? (★★★) \n",
        "(**hint**: array\\[\\[\\]\\] = array\\[\\[\\]\\])"
      ]
    },
    {
      "cell_type": "code",
      "execution_count": 11,
      "metadata": {
        "id": "haGK0tvlSiNc"
      },
      "outputs": [],
      "source": []
    },
    {
      "cell_type": "markdown",
      "metadata": {
        "id": "Ylwrj_udSiNc"
      },
      "source": [
        "#### 73. Consider a set of 10 triplets describing 10 triangles (with shared vertices), find the set of unique line segments composing all the  triangles (★★★) \n",
        "(**hint**: repeat, np.roll, np.sort, view, np.unique)"
      ]
    },
    {
      "cell_type": "code",
      "execution_count": 11,
      "metadata": {
        "id": "PNq3taxNSiNd"
      },
      "outputs": [],
      "source": []
    },
    {
      "cell_type": "markdown",
      "metadata": {
        "id": "jk_A6PAqSiNd"
      },
      "source": [
        "#### 74. Given an array C that is a bincount, how to produce an array A such that np.bincount(A) == C? (★★★) \n",
        "(**hint**: np.repeat)"
      ]
    },
    {
      "cell_type": "code",
      "execution_count": 11,
      "metadata": {
        "id": "joGXBlAnSiNd"
      },
      "outputs": [],
      "source": []
    },
    {
      "cell_type": "markdown",
      "metadata": {
        "id": "6-MTZfnuSiNe"
      },
      "source": [
        "#### 75. How to compute averages using a sliding window over an array? (★★★) \n",
        "(**hint**: np.cumsum)"
      ]
    },
    {
      "cell_type": "code",
      "execution_count": 11,
      "metadata": {
        "id": "Oeema1w5SiNe"
      },
      "outputs": [],
      "source": []
    },
    {
      "cell_type": "markdown",
      "metadata": {
        "id": "O6HLB_W1SiNe"
      },
      "source": [
        "#### 76. Consider a one-dimensional array Z, build a two-dimensional array whose first row is (Z\\[0\\],Z\\[1\\],Z\\[2\\]) and each subsequent row is  shifted by 1 (last row should be (Z\\[-3\\],Z\\[-2\\],Z\\[-1\\]) (★★★) \n",
        "(**hint**: from numpy.lib import stride_tricks)"
      ]
    },
    {
      "cell_type": "code",
      "execution_count": 11,
      "metadata": {
        "id": "GM0-dfQeSiNf"
      },
      "outputs": [],
      "source": []
    },
    {
      "cell_type": "markdown",
      "metadata": {
        "id": "h7vrR2Q0SiNf"
      },
      "source": [
        "#### 77. How to negate a boolean, or to change the sign of a float inplace? (★★★) \n",
        "(**hint**: np.logical_not, np.negative)"
      ]
    },
    {
      "cell_type": "code",
      "execution_count": 11,
      "metadata": {
        "id": "PxZ120EqSiNf"
      },
      "outputs": [],
      "source": []
    },
    {
      "cell_type": "markdown",
      "metadata": {
        "id": "yg6kUJgGSiNf"
      },
      "source": [
        "#### 78. Consider 2 sets of points P0,P1 describing lines (2d) and a point p, how to compute distance from p to each line i  (P0\\[i\\],P1\\[i\\])? (★★★)"
      ]
    },
    {
      "cell_type": "code",
      "execution_count": 11,
      "metadata": {
        "id": "Wml2OCJESiNg"
      },
      "outputs": [],
      "source": []
    },
    {
      "cell_type": "markdown",
      "metadata": {
        "id": "niOUygThSiNg"
      },
      "source": [
        "#### 79. Consider 2 sets of points P0,P1 describing lines (2d) and a set of points P, how to compute distance from each point j (P\\[j\\]) to each line i (P0\\[i\\],P1\\[i\\])? (★★★)"
      ]
    },
    {
      "cell_type": "code",
      "execution_count": 11,
      "metadata": {
        "id": "gDVDDX_zSiNg"
      },
      "outputs": [],
      "source": []
    },
    {
      "cell_type": "markdown",
      "metadata": {
        "id": "VCygHN4ySiNh"
      },
      "source": [
        "#### 80. Consider an arbitrary array, write a function that extract a subpart with a fixed shape and centered on a given element (pad with a `fill` value when necessary) (★★★) \n",
        "(**hint**: minimum, maximum)"
      ]
    },
    {
      "cell_type": "code",
      "execution_count": 11,
      "metadata": {
        "id": "ZgWhzgVhSiNh"
      },
      "outputs": [],
      "source": []
    },
    {
      "cell_type": "markdown",
      "metadata": {
        "id": "A4vTTrisSiNh"
      },
      "source": [
        "#### 81. Consider an array Z = \\[1,2,3,4,5,6,7,8,9,10,11,12,13,14\\], how to generate an array R = \\[\\[1,2,3,4\\], \\[2,3,4,5\\], \\[3,4,5,6\\], ..., \\[11,12,13,14\\]\\]? (★★★) \n",
        "(**hint**: stride\\_tricks.as\\_strided)"
      ]
    },
    {
      "cell_type": "code",
      "execution_count": 11,
      "metadata": {
        "id": "WCsoH556SiNh"
      },
      "outputs": [],
      "source": []
    },
    {
      "cell_type": "markdown",
      "metadata": {
        "id": "Vgs5y0L6SiNh"
      },
      "source": [
        "#### 82. Compute a matrix rank (★★★) \n",
        "(**hint**: np.linalg.svd) (suggestion: np.linalg.svd)"
      ]
    },
    {
      "cell_type": "code",
      "execution_count": 11,
      "metadata": {
        "id": "LsTGfrZ_SiNi"
      },
      "outputs": [],
      "source": []
    },
    {
      "cell_type": "markdown",
      "metadata": {
        "id": "kaOocly0SiNi"
      },
      "source": [
        "#### 83. How to find the most frequent value in an array? \n",
        "(**hint**: np.bincount, argmax)"
      ]
    },
    {
      "cell_type": "code",
      "execution_count": 11,
      "metadata": {
        "id": "z-CRHLmJSiNi"
      },
      "outputs": [],
      "source": []
    },
    {
      "cell_type": "markdown",
      "metadata": {
        "id": "p-7EFIAISiNi"
      },
      "source": [
        "#### 84. Extract all the contiguous 3x3 blocks from a random 10x10 matrix (★★★) \n",
        "(**hint**: stride\\_tricks.as\\_strided)"
      ]
    },
    {
      "cell_type": "code",
      "execution_count": 11,
      "metadata": {
        "id": "_ZwqsFkySiNi"
      },
      "outputs": [],
      "source": []
    },
    {
      "cell_type": "markdown",
      "metadata": {
        "id": "4UEXqt0kSiNi"
      },
      "source": [
        "#### 85. Create a 2D array subclass such that Z\\[i,j\\] == Z\\[j,i\\] (★★★) \n",
        "(**hint**: class method)"
      ]
    },
    {
      "cell_type": "code",
      "execution_count": 11,
      "metadata": {
        "id": "Z_wOoxp9SiNj"
      },
      "outputs": [],
      "source": []
    },
    {
      "cell_type": "markdown",
      "metadata": {
        "id": "t_t22Be9SiNj"
      },
      "source": [
        "#### 86. Consider a set of p matrices wich shape (n,n) and a set of p vectors with shape (n,1). How to compute the sum of of the p matrix products at once? (result has shape (n,1)) (★★★) \n",
        "(**hint**: np.tensordot)"
      ]
    },
    {
      "cell_type": "code",
      "execution_count": 11,
      "metadata": {
        "id": "Zt4IPY6ySiNj"
      },
      "outputs": [],
      "source": []
    },
    {
      "cell_type": "markdown",
      "metadata": {
        "id": "njfj0k5FSiNj"
      },
      "source": [
        "#### 87. Consider a 16x16 array, how to get the block-sum (block size is 4x4)? (★★★) \n",
        "(**hint**: np.add.reduceat)"
      ]
    },
    {
      "cell_type": "code",
      "execution_count": 11,
      "metadata": {
        "id": "vr1e7D6JSiNj"
      },
      "outputs": [],
      "source": []
    },
    {
      "cell_type": "markdown",
      "metadata": {
        "id": "bDF12KT7SiNj"
      },
      "source": [
        "#### 88. How to implement the Game of Life using numpy arrays? (★★★)"
      ]
    },
    {
      "cell_type": "code",
      "execution_count": 11,
      "metadata": {
        "id": "BQdPWJmlSiNj"
      },
      "outputs": [],
      "source": []
    },
    {
      "cell_type": "markdown",
      "metadata": {
        "id": "-vDSbC8MSiNk"
      },
      "source": [
        "#### 89. How to get the n largest values of an array (★★★) \n",
        "(**hint**: np.argsort | np.argpartition)"
      ]
    },
    {
      "cell_type": "code",
      "execution_count": 11,
      "metadata": {
        "id": "UU7l7s7aSiNk"
      },
      "outputs": [],
      "source": []
    },
    {
      "cell_type": "markdown",
      "metadata": {
        "id": "XrEvRz0NSiNk"
      },
      "source": [
        "#### 90. Given an arbitrary number of vectors, build the cartesian product (every combinations of every item) (★★★) \n",
        "(**hint**: np.indices)"
      ]
    },
    {
      "cell_type": "code",
      "execution_count": 11,
      "metadata": {
        "scrolled": true,
        "id": "xgWUWZ8aSiNk"
      },
      "outputs": [],
      "source": []
    },
    {
      "cell_type": "markdown",
      "metadata": {
        "id": "ft8RvNFhSiNk"
      },
      "source": [
        "#### 91. How to create a record array from a regular array? (★★★) \n",
        "(**hint**: np.core.records.fromarrays)"
      ]
    },
    {
      "cell_type": "code",
      "execution_count": 11,
      "metadata": {
        "id": "xsGj5mkmSiNk"
      },
      "outputs": [],
      "source": []
    },
    {
      "cell_type": "markdown",
      "metadata": {
        "id": "81rkvZBWSiNk"
      },
      "source": [
        "#### 92. Consider a large vector Z, compute Z to the power of 3 using 3 different methods (★★★) \n",
        "(**hint**: np.power, \\*, np.einsum)"
      ]
    },
    {
      "cell_type": "code",
      "execution_count": 11,
      "metadata": {
        "id": "I7c28U3zSiNl"
      },
      "outputs": [],
      "source": []
    },
    {
      "cell_type": "markdown",
      "metadata": {
        "id": "WnkLJCYUSiNl"
      },
      "source": [
        "#### 93. Consider two arrays A and B of shape (8,3) and (2,2). How to find rows of A that contain elements of each row of B regardless of the order of the elements in B? (★★★) \n",
        "(**hint**: np.where)"
      ]
    },
    {
      "cell_type": "code",
      "execution_count": 11,
      "metadata": {
        "id": "YdHuylwGSiNl"
      },
      "outputs": [],
      "source": []
    },
    {
      "cell_type": "markdown",
      "metadata": {
        "id": "l1iPG2SASiNl"
      },
      "source": [
        "#### 94. Considering a 10x3 matrix, extract rows with unequal values (e.g. \\[2,2,3\\]) (★★★)"
      ]
    },
    {
      "cell_type": "code",
      "execution_count": 11,
      "metadata": {
        "id": "F7vhAfqtSiNl"
      },
      "outputs": [],
      "source": []
    },
    {
      "cell_type": "markdown",
      "metadata": {
        "id": "YSceVBf_SiNl"
      },
      "source": [
        "#### 95. Convert a vector of ints into a matrix binary representation (★★★) \n",
        "(**hint**: np.unpackbits)"
      ]
    },
    {
      "cell_type": "code",
      "execution_count": 11,
      "metadata": {
        "id": "_6UK1d8MSiNl"
      },
      "outputs": [],
      "source": []
    },
    {
      "cell_type": "markdown",
      "metadata": {
        "id": "BieUigtSSiNl"
      },
      "source": [
        "#### 96. Given a two dimensional array, how to extract unique rows? (★★★) \n",
        "(**hint**: np.ascontiguousarray)"
      ]
    },
    {
      "cell_type": "code",
      "execution_count": 11,
      "metadata": {
        "id": "5I2F69lpSiNm"
      },
      "outputs": [],
      "source": []
    },
    {
      "cell_type": "markdown",
      "metadata": {
        "id": "SKraK34SSiNm"
      },
      "source": [
        "#### 97. Considering 2 vectors A & B, write the einsum equivalent of inner, outer, sum, and mul function (★★★) \n",
        "(**hint**: np.einsum)"
      ]
    },
    {
      "cell_type": "code",
      "execution_count": 11,
      "metadata": {
        "id": "_fx40cPzSiNm"
      },
      "outputs": [],
      "source": []
    },
    {
      "cell_type": "markdown",
      "metadata": {
        "id": "EApRsuJnSiNm"
      },
      "source": [
        "#### 98. Considering a path described by two vectors (X,Y), how to sample it using equidistant samples (★★★)? \n",
        "(**hint**: np.cumsum, np.interp)"
      ]
    },
    {
      "cell_type": "code",
      "execution_count": 11,
      "metadata": {
        "collapsed": true,
        "id": "BRoqjzqVSiNm"
      },
      "outputs": [],
      "source": []
    },
    {
      "cell_type": "markdown",
      "metadata": {
        "id": "b9cn_IdySiNm"
      },
      "source": [
        "#### 99. Given an integer n and a 2D array X, select from X the rows which can be interpreted as draws from a multinomial distribution with n degrees, i.e., the rows which only contain integers and which sum to n. (★★★) \n",
        "(**hint**: np.logical\\_and.reduce, np.mod)"
      ]
    },
    {
      "cell_type": "code",
      "execution_count": 11,
      "metadata": {
        "id": "yGLa_amtSiNn"
      },
      "outputs": [],
      "source": []
    },
    {
      "cell_type": "markdown",
      "metadata": {
        "id": "WzCGX1EDSiNn"
      },
      "source": [
        "#### 100. Compute bootstrapped 95% confidence intervals for the mean of a 1D array X (i.e., resample the elements of an array with replacement N times, compute the mean of each sample, and then compute percentiles over the means). (★★★) \n",
        "(**hint**: np.percentile)"
      ]
    },
    {
      "cell_type": "code",
      "execution_count": 11,
      "metadata": {
        "id": "43V45MM1SiNn"
      },
      "outputs": [],
      "source": []
    }
  ],
  "metadata": {
    "kernelspec": {
      "display_name": "Python 3",
      "language": "python",
      "name": "python3"
    },
    "language_info": {
      "codemirror_mode": {
        "name": "ipython",
        "version": 3
      },
      "file_extension": ".py",
      "mimetype": "text/x-python",
      "name": "python",
      "nbconvert_exporter": "python",
      "pygments_lexer": "ipython3",
      "version": "3.8.3"
    },
    "colab": {
      "provenance": []
    }
  },
  "nbformat": 4,
  "nbformat_minor": 0
}